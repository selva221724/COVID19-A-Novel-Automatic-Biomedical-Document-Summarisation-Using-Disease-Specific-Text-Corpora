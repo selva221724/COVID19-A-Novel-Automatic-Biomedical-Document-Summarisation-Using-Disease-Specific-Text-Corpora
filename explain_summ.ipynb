{
 "cells": [
  {
   "cell_type": "markdown",
   "metadata": {},
   "source": [
    "# Explain PyTextRank: extractive summarization\n",
    "\n",
    "How does **PyTextRank** perform *extractive summarization* on a text document?"
   ]
  },
  {
   "cell_type": "markdown",
   "metadata": {},
   "source": [
    "---\n",
    "First we perform some basic housekeeping for Jupyter, then load `spaCy` with a language model for English ..."
   ]
  },
  {
   "cell_type": "code",
   "execution_count": 1,
   "metadata": {},
   "outputs": [],
   "source": [
    "import warnings\n",
    "warnings.filterwarnings(\"ignore\")"
   ]
  },
  {
   "cell_type": "code",
   "execution_count": 2,
   "metadata": {},
   "outputs": [],
   "source": [
    "import spacy\n",
    "nlp = spacy.load(\"en_core_web_sm\")"
   ]
  },
  {
   "cell_type": "markdown",
   "metadata": {},
   "source": [
    "Create some text to use...."
   ]
  },
  {
   "cell_type": "code",
   "execution_count": 3,
   "metadata": {},
   "outputs": [],
   "source": [
    "text = \"Compatibility of systems of linear constraints over the set of natural numbers. Criteria of compatibility of a system of linear Diophantine equations, strict inequations, and nonstrict inequations are considered. Upper bounds for components of a minimal set of solutions and algorithms of construction of minimal generating sets of solutions for all types of systems are given. These criteria and the corresponding algorithms for constructing a minimal supporting set of solutions can be used in solving all the considered types systems and systems of mixed types.\""
   ]
  },
  {
   "cell_type": "markdown",
   "metadata": {},
   "source": [
    "Then add **PyTextRank** into the `spaCy` pipeline..."
   ]
  },
  {
   "cell_type": "code",
   "execution_count": 4,
   "metadata": {},
   "outputs": [],
   "source": [
    "import pytextrank\n",
    "\n",
    "tr = pytextrank.TextRank()\n",
    "nlp.add_pipe(tr.PipelineComponent, name=\"textrank\", last=True)\n",
    "\n",
    "doc = nlp(text)"
   ]
  },
  {
   "cell_type": "markdown",
   "metadata": {},
   "source": [
    "Examine the results: a list of top-ranked phrases in the document"
   ]
  },
  {
   "cell_type": "code",
   "execution_count": 5,
   "metadata": {},
   "outputs": [
    {
     "name": "stdout",
     "output_type": "stream",
     "text": [
      "0.1641     1  minimal generating sets\n",
      "[minimal generating sets]\n",
      "0.1469     4  systems\n",
      "[systems, systems, systems, a system]\n",
      "0.1260     1  linear diophantine equations\n",
      "[linear Diophantine equations]\n",
      "0.1172     3  solutions\n",
      "[solutions, solutions, solutions]\n",
      "0.1103     1  mixed types\n",
      "[mixed types]\n",
      "0.1103     1  nonstrict inequations\n",
      "[nonstrict inequations]\n",
      "0.1102     1  strict inequations\n",
      "[strict inequations]\n",
      "0.1057     1  linear constraints\n",
      "[linear constraints]\n",
      "0.1047     1  a minimal supporting set\n",
      "[a minimal supporting set]\n",
      "0.0954     1  upper bounds\n",
      "[Upper bounds]\n",
      "0.0952     1  a minimal set\n",
      "[a minimal set]\n",
      "0.0843     1  algorithms\n",
      "[algorithms]\n",
      "0.0841     1  natural numbers\n",
      "[natural numbers]\n",
      "0.0838     1  components\n",
      "[components]\n",
      "0.0829     1  diophantine\n",
      "[Diophantine]\n",
      "0.0828     1  all the considered types systems\n",
      "[all the considered types systems]\n",
      "0.0748     2  compatibility\n",
      "[Compatibility, compatibility]\n",
      "0.0731     1  construction\n",
      "[construction]\n",
      "0.0687     1  the set\n",
      "[the set]\n",
      "0.0663     2  criteria\n",
      "[Criteria, These criteria]\n",
      "0.0620     1  the corresponding algorithms\n",
      "[the corresponding algorithms]\n",
      "0.0549     1  all types\n",
      "[all types]\n"
     ]
    }
   ],
   "source": [
    "for p in doc._.phrases:\n",
    "    print(\"{:.4f} {:5d}  {}\".format(p.rank, p.count, p.text))\n",
    "    print(p.chunks)"
   ]
  },
  {
   "cell_type": "markdown",
   "metadata": {},
   "source": [
    "Construct a list of the sentence boundaries with a phrase vector (initialized to empty set) for each..."
   ]
  },
  {
   "cell_type": "code",
   "execution_count": 6,
   "metadata": {},
   "outputs": [
    {
     "data": {
      "text/plain": [
       "[[0, 13, set()], [13, 33, set()], [33, 61, set()], [61, 91, set()]]"
      ]
     },
     "execution_count": 6,
     "metadata": {},
     "output_type": "execute_result"
    }
   ],
   "source": [
    "sent_bounds = [ [s.start, s.end, set([])] for s in doc.sents ]\n",
    "sent_bounds"
   ]
  },
  {
   "cell_type": "markdown",
   "metadata": {},
   "source": [
    "Iterate through the top-ranked phrases, added them to the phrase vector for each sentence..."
   ]
  },
  {
   "cell_type": "code",
   "execution_count": 7,
   "metadata": {},
   "outputs": [
    {
     "name": "stdout",
     "output_type": "stream",
     "text": [
      "0 minimal generating sets 0.1640996265710316\n",
      "  48 51\n",
      "  33 48 51 61\n",
      "1 systems 0.14688751982088183\n",
      "  2 3\n",
      "  0 2 3 13\n",
      "  57 58\n",
      "  33 57 58 61\n",
      "  86 87\n",
      "  61 86 87 91\n",
      "  17 19\n",
      "  13 17 19 33\n",
      "2 linear diophantine equations 0.1259559430077718\n",
      "  20 23\n",
      "  13 20 23 33\n",
      "3 solutions 0.1172143523159633\n",
      "  42 43\n",
      "  33 42 43 61\n",
      "  52 53\n",
      "  33 52 53 61\n",
      "  74 75\n",
      "  61 74 75 91\n"
     ]
    }
   ],
   "source": [
    "limit_phrases = 4\n",
    "\n",
    "phrase_id = 0\n",
    "unit_vector = []\n",
    "\n",
    "for p in doc._.phrases:\n",
    "    print(phrase_id, p.text, p.rank)\n",
    "    \n",
    "    unit_vector.append(p.rank)\n",
    "    \n",
    "    for chunk in p.chunks:\n",
    "        print(\" \", chunk.start, chunk.end)\n",
    "        \n",
    "        for sent_start, sent_end, sent_vector in sent_bounds:\n",
    "            if chunk.start >= sent_start and chunk.start <= sent_end:\n",
    "                print(\" \", sent_start, chunk.start, chunk.end, sent_end)\n",
    "                sent_vector.add(phrase_id)\n",
    "                break\n",
    "\n",
    "    phrase_id += 1\n",
    "\n",
    "    if phrase_id == limit_phrases:\n",
    "        break"
   ]
  },
  {
   "cell_type": "markdown",
   "metadata": {},
   "source": [
    "Let's take a look at the results..."
   ]
  },
  {
   "cell_type": "code",
   "execution_count": 8,
   "metadata": {},
   "outputs": [
    {
     "data": {
      "text/plain": [
       "[[0, 13, {1}], [13, 33, {1, 2}], [33, 61, {0, 1, 3}], [61, 91, {1, 3}]]"
      ]
     },
     "execution_count": 8,
     "metadata": {},
     "output_type": "execute_result"
    }
   ],
   "source": [
    "sent_bounds"
   ]
  },
  {
   "cell_type": "code",
   "execution_count": 9,
   "metadata": {},
   "outputs": [
    {
     "name": "stdout",
     "output_type": "stream",
     "text": [
      "Compatibility of systems of linear constraints over the set of natural numbers.\n",
      "Criteria of compatibility of a system of linear Diophantine equations, strict inequations, and nonstrict inequations are considered.\n",
      "Upper bounds for components of a minimal set of solutions and algorithms of construction of minimal generating sets of solutions for all types of systems are given.\n",
      "These criteria and the corresponding algorithms for constructing a minimal supporting set of solutions can be used in solving all the considered types systems and systems of mixed types.\n"
     ]
    }
   ],
   "source": [
    "for sent in doc.sents:\n",
    "    print(sent)"
   ]
  },
  {
   "cell_type": "markdown",
   "metadata": {},
   "source": [
    "We also construct a `unit_vector` for all of the phrases, up to the limit requested..."
   ]
  },
  {
   "cell_type": "code",
   "execution_count": 10,
   "metadata": {},
   "outputs": [
    {
     "data": {
      "text/plain": [
       "[0.1640996265710316,\n",
       " 0.14688751982088183,\n",
       " 0.1259559430077718,\n",
       " 0.1172143523159633]"
      ]
     },
     "execution_count": 10,
     "metadata": {},
     "output_type": "execute_result"
    }
   ],
   "source": [
    "unit_vector"
   ]
  },
  {
   "cell_type": "code",
   "execution_count": 11,
   "metadata": {},
   "outputs": [
    {
     "data": {
      "text/plain": [
       "[0.29612455634085855,\n",
       " 0.26506459854824677,\n",
       " 0.22729270334765767,\n",
       " 0.21151814176323702]"
      ]
     },
     "execution_count": 11,
     "metadata": {},
     "output_type": "execute_result"
    }
   ],
   "source": [
    "sum_ranks = sum(unit_vector)\n",
    "unit_vector = [ rank/sum_ranks for rank in unit_vector ]\n",
    "\n",
    "unit_vector"
   ]
  },
  {
   "cell_type": "markdown",
   "metadata": {},
   "source": [
    "Iterate through each sentence, calculating its *euclidean distance* from the unit vector..."
   ]
  },
  {
   "cell_type": "code",
   "execution_count": 12,
   "metadata": {},
   "outputs": [
    {
     "name": "stdout",
     "output_type": "stream",
     "text": [
      "{1}\n",
      "0 0.29612455634085855\n",
      "1 0.26506459854824677\n",
      "2 0.22729270334765767\n",
      "3 0.21151814176323702\n",
      "{1, 2}\n",
      "0 0.29612455634085855\n",
      "1 0.26506459854824677\n",
      "2 0.22729270334765767\n",
      "3 0.21151814176323702\n",
      "{0, 1, 3}\n",
      "0 0.29612455634085855\n",
      "1 0.26506459854824677\n",
      "2 0.22729270334765767\n",
      "3 0.21151814176323702\n",
      "{1, 3}\n",
      "0 0.29612455634085855\n",
      "1 0.26506459854824677\n",
      "2 0.22729270334765767\n",
      "3 0.21151814176323702\n",
      "{0: 0.4290590287572672, 1: 0.363908885798414, 2: 0.22729270334765767, 3: 0.37329844074568086}\n"
     ]
    }
   ],
   "source": [
    "from math import sqrt\n",
    "\n",
    "sent_rank = {}\n",
    "sent_id = 0\n",
    "\n",
    "for sent_start, sent_end, sent_vector in sent_bounds:\n",
    "    print(sent_vector)\n",
    "    sum_sq = 0.0\n",
    "    \n",
    "    for phrase_id in range(len(unit_vector)):\n",
    "        print(phrase_id, unit_vector[phrase_id])\n",
    "        \n",
    "        if phrase_id not in sent_vector:\n",
    "            sum_sq += unit_vector[phrase_id]**2.0\n",
    "\n",
    "    sent_rank[sent_id] = sqrt(sum_sq)\n",
    "    sent_id += 1\n",
    "\n",
    "print(sent_rank)"
   ]
  },
  {
   "cell_type": "markdown",
   "metadata": {},
   "source": [
    "Sort the sentence indexes in descending order"
   ]
  },
  {
   "cell_type": "code",
   "execution_count": 13,
   "metadata": {},
   "outputs": [
    {
     "data": {
      "text/plain": [
       "[(2, 0.22729270334765767),\n",
       " (1, 0.363908885798414),\n",
       " (3, 0.37329844074568086),\n",
       " (0, 0.4290590287572672)]"
      ]
     },
     "execution_count": 13,
     "metadata": {},
     "output_type": "execute_result"
    }
   ],
   "source": [
    "from operator import itemgetter\n",
    "\n",
    "sorted(sent_rank.items(), key=itemgetter(1)) "
   ]
  },
  {
   "cell_type": "markdown",
   "metadata": {},
   "source": [
    "Extract the sentences with the lowest distance, up to the limite requested..."
   ]
  },
  {
   "cell_type": "code",
   "execution_count": 14,
   "metadata": {},
   "outputs": [
    {
     "name": "stdout",
     "output_type": "stream",
     "text": [
      "2 Upper bounds for components of a minimal set of solutions and algorithms of construction of minimal generating sets of solutions for all types of systems are given.\n",
      "1 Criteria of compatibility of a system of linear Diophantine equations, strict inequations, and nonstrict inequations are considered.\n"
     ]
    }
   ],
   "source": [
    "limit_sentences = 2\n",
    "\n",
    "sent_text = {}\n",
    "sent_id = 0\n",
    "\n",
    "for sent in doc.sents:\n",
    "    sent_text[sent_id] = sent.text\n",
    "    sent_id += 1\n",
    "\n",
    "num_sent = 0\n",
    "\n",
    "for sent_id, rank in sorted(sent_rank.items(), key=itemgetter(1)):\n",
    "    print(sent_id, sent_text[sent_id])\n",
    "    num_sent += 1\n",
    "    \n",
    "    if num_sent == limit_sentences:\n",
    "        break"
   ]
  }
 ],
 "metadata": {
  "kernelspec": {
   "display_name": "Python 3",
   "language": "python",
   "name": "python3"
  },
  "language_info": {
   "codemirror_mode": {
    "name": "ipython",
    "version": 3
   },
   "file_extension": ".py",
   "mimetype": "text/x-python",
   "name": "python",
   "nbconvert_exporter": "python",
   "pygments_lexer": "ipython3",
   "version": "3.7.3"
  }
 },
 "nbformat": 4,
 "nbformat_minor": 2
}
