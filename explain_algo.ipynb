{
 "cells": [
  {
   "cell_type": "markdown",
   "metadata": {},
   "source": [
    "# Explain PyTextRank: the algorithm\n",
    "\n",
    "Let's look at the *TextRank* algorithm used to build a graph from a raw text, and then from that extract the top-ranked phrases. This work is based on \n",
    "[\"TextRank: Bringing Order into Text\"](http://web.eecs.umich.edu/~mihalcea/papers/mihalcea.emnlp04.pdf),\n",
    "Rada Mihalcea, Paul Tarau, _Empirical Methods in Natural Language Processing_ (2004)."
   ]
  },
  {
   "cell_type": "markdown",
   "metadata": {},
   "source": [
    "---\n",
    "First we perform some basic housekeeping for Jupyter, then load `spaCy` with a language model for English ..."
   ]
  },
  {
   "cell_type": "code",
   "execution_count": 1,
   "metadata": {},
   "outputs": [],
   "source": [
    "import warnings\n",
    "warnings.filterwarnings(\"ignore\")"
   ]
  },
  {
   "cell_type": "code",
   "execution_count": 2,
   "metadata": {},
   "outputs": [],
   "source": [
    "import spacy\n",
    "nlp = spacy.load(\"en_core_web_sm\")"
   ]
  },
  {
   "cell_type": "markdown",
   "metadata": {},
   "source": [
    "Now, to get started, we'll create some text to use."
   ]
  },
  {
   "cell_type": "code",
   "execution_count": 3,
   "metadata": {},
   "outputs": [],
   "source": [
    "#text = \"When Ada was twelve years old, this future 'Lady Fairy', as Charles Babbage affectionately called her, decided she wanted to fly. Ada Byron went about the project methodically, thoughtfully, with imagination and passion. Her first step, in February 1828, was to construct wings. She investigated different material and sizes. She considered various materials for the wings: paper, oilsilk, wires, and feathers. She examined the anatomy of birds to determine the right proportion between the wings and the body. She decided to write a book, Flyology, illustrating, with plates, some of her findings. She decided what equipment she would need; for example, a compass, to 'cut across the country by the most direct road', so that she could surmount mountains, rivers, and valleys. Her final step was to integrate steam with the 'art of flying.\"\n",
    "\n",
    "text = \"Compatibility of systems of linear constraints over the set of natural numbers. Criteria of compatibility of a system of linear Diophantine equations, strict inequations, and nonstrict inequations are considered. Upper bounds for components of a minimal set of solutions and algorithms of construction of minimal generating sets of solutions for all types of systems are given. These criteria and the corresponding algorithms for constructing a minimal supporting set of solutions can be used in solving all the considered types systems and systems of mixed types.\"\n",
    "\n",
    "doc = nlp(text)"
   ]
  },
  {
   "cell_type": "markdown",
   "metadata": {},
   "source": [
    "How many sentences are in the parsed document and where are their boundaries?"
   ]
  },
  {
   "cell_type": "code",
   "execution_count": 4,
   "metadata": {},
   "outputs": [
    {
     "name": "stdout",
     "output_type": "stream",
     "text": [
      "> 0 13\n",
      "> 13 33\n",
      "> 33 61\n",
      "> 61 91\n"
     ]
    }
   ],
   "source": [
    "for sent in doc.sents:\n",
    "    print(\">\", sent.start, sent.end)"
   ]
  },
  {
   "cell_type": "markdown",
   "metadata": {},
   "source": [
    "What are the raw _noun chunks_ in the parsed document, as well as its _named entities_?"
   ]
  },
  {
   "cell_type": "code",
   "execution_count": 5,
   "metadata": {},
   "outputs": [
    {
     "name": "stdout",
     "output_type": "stream",
     "text": [
      "Compatibility\n",
      "systems\n",
      "linear constraints\n",
      "the set\n",
      "natural numbers\n",
      "Criteria\n",
      "compatibility\n",
      "a system\n",
      "linear Diophantine equations\n",
      "strict inequations\n",
      "nonstrict inequations\n",
      "Upper bounds\n",
      "components\n",
      "a minimal set\n",
      "solutions\n",
      "algorithms\n",
      "construction\n",
      "minimal generating sets\n",
      "solutions\n",
      "all types\n",
      "systems\n",
      "These criteria\n",
      "the corresponding algorithms\n",
      "a minimal supporting set\n",
      "solutions\n",
      "all the considered types systems\n",
      "systems\n",
      "mixed types\n"
     ]
    }
   ],
   "source": [
    "for chunk in doc.noun_chunks:\n",
    "    print(chunk.text)"
   ]
  },
  {
   "cell_type": "code",
   "execution_count": 6,
   "metadata": {},
   "outputs": [
    {
     "name": "stdout",
     "output_type": "stream",
     "text": [
      "Diophantine ORG 21 22\n"
     ]
    }
   ],
   "source": [
    "for ent in doc.ents:\n",
    "    print(ent.text, ent.label_, ent.start, ent.end)"
   ]
  },
  {
   "cell_type": "markdown",
   "metadata": {},
   "source": [
    "Given those details about the parsed document, next we use [NetworkX](https://networkx.github.io/) to manage an in-memory graph..."
   ]
  },
  {
   "cell_type": "code",
   "execution_count": 7,
   "metadata": {},
   "outputs": [],
   "source": [
    "import networkx as nx\n",
    "\n",
    "def increment_edge (graph, node0, node1):\n",
    "    print(\"link {} {}\".format(node0, node1))\n",
    "    \n",
    "    if graph.has_edge(node0, node1):\n",
    "        graph[node0][node1][\"weight\"] += 1.0\n",
    "    else:\n",
    "        graph.add_edge(node0, node1, weight=1.0)"
   ]
  },
  {
   "cell_type": "markdown",
   "metadata": {},
   "source": [
    "Then construct a graph, sentence by sentence, based on the [spaCy part-of-speech tags](https://spacy.io/api/annotation#pos-en) tags:"
   ]
  },
  {
   "cell_type": "code",
   "execution_count": 8,
   "metadata": {},
   "outputs": [],
   "source": [
    "POS_KEPT = [\"ADJ\", \"NOUN\", \"PROPN\", \"VERB\"]\n",
    "\n",
    "def link_sentence (doc, sent, lemma_graph, seen_lemma):\n",
    "    visited_tokens = []\n",
    "    visited_nodes = []\n",
    "\n",
    "    for i in range(sent.start, sent.end):\n",
    "        token = doc[i]\n",
    "\n",
    "        if token.pos_ in POS_KEPT:\n",
    "            key = (token.lemma_, token.pos_)\n",
    "\n",
    "            if key not in seen_lemma:\n",
    "                seen_lemma[key] = set([token.i])\n",
    "            else:\n",
    "                seen_lemma[key].add(token.i)\n",
    "\n",
    "            node_id = list(seen_lemma.keys()).index(key)\n",
    "\n",
    "            if not node_id in lemma_graph:\n",
    "                lemma_graph.add_node(node_id)\n",
    "\n",
    "            print(\"visit {} {}\".format(visited_tokens, visited_nodes))\n",
    "            print(\"range {}\".format(list(range(len(visited_tokens) - 1, -1, -1))))\n",
    "            \n",
    "            for prev_token in range(len(visited_tokens) - 1, -1, -1):\n",
    "                print(\"prev_tok {} {}\".format(prev_token, (token.i - visited_tokens[prev_token])))\n",
    "                \n",
    "                if (token.i - visited_tokens[prev_token]) <= 3:\n",
    "                    increment_edge(lemma_graph, node_id, visited_nodes[prev_token])\n",
    "                else:\n",
    "                    break\n",
    "\n",
    "            print(\" -- {} {} {} {} {} {}\".format(token.i, token.text, token.lemma_, token.pos_, visited_tokens, visited_nodes))\n",
    "\n",
    "            visited_tokens.append(token.i)\n",
    "            visited_nodes.append(node_id)"
   ]
  },
  {
   "cell_type": "markdown",
   "metadata": {},
   "source": [
    "Now iterate through the sentences to construct the lemma graph..."
   ]
  },
  {
   "cell_type": "code",
   "execution_count": 9,
   "metadata": {},
   "outputs": [
    {
     "name": "stdout",
     "output_type": "stream",
     "text": [
      "visit [] []\n",
      "range []\n",
      " -- 0 Compatibility compatibility NOUN [] []\n",
      "visit [0] [0]\n",
      "range [0]\n",
      "prev_tok 0 2\n",
      "link 1 0\n",
      " -- 2 systems system NOUN [0] [0]\n",
      "visit [0, 2] [0, 1]\n",
      "range [1, 0]\n",
      "prev_tok 1 2\n",
      "link 2 1\n",
      "prev_tok 0 4\n",
      " -- 4 linear linear ADJ [0, 2] [0, 1]\n",
      "visit [0, 2, 4] [0, 1, 2]\n",
      "range [2, 1, 0]\n",
      "prev_tok 2 1\n",
      "link 3 2\n",
      "prev_tok 1 3\n",
      "link 3 1\n",
      "prev_tok 0 5\n",
      " -- 5 constraints constraint NOUN [0, 2, 4] [0, 1, 2]\n",
      "visit [0, 2, 4, 5] [0, 1, 2, 3]\n",
      "range [3, 2, 1, 0]\n",
      "prev_tok 3 3\n",
      "link 4 3\n",
      "prev_tok 2 4\n",
      " -- 8 set set NOUN [0, 2, 4, 5] [0, 1, 2, 3]\n",
      "visit [0, 2, 4, 5, 8] [0, 1, 2, 3, 4]\n",
      "range [4, 3, 2, 1, 0]\n",
      "prev_tok 4 2\n",
      "link 5 4\n",
      "prev_tok 3 5\n",
      " -- 10 natural natural ADJ [0, 2, 4, 5, 8] [0, 1, 2, 3, 4]\n",
      "visit [0, 2, 4, 5, 8, 10] [0, 1, 2, 3, 4, 5]\n",
      "range [5, 4, 3, 2, 1, 0]\n",
      "prev_tok 5 1\n",
      "link 6 5\n",
      "prev_tok 4 3\n",
      "link 6 4\n",
      "prev_tok 3 6\n",
      " -- 11 numbers number NOUN [0, 2, 4, 5, 8, 10] [0, 1, 2, 3, 4, 5]\n",
      "visit [] []\n",
      "range []\n",
      " -- 13 Criteria criterion NOUN [] []\n",
      "visit [13] [7]\n",
      "range [0]\n",
      "prev_tok 0 2\n",
      "link 0 7\n",
      " -- 15 compatibility compatibility NOUN [13] [7]\n",
      "visit [13, 15] [7, 0]\n",
      "range [1, 0]\n",
      "prev_tok 1 3\n",
      "link 1 0\n",
      "prev_tok 0 5\n",
      " -- 18 system system NOUN [13, 15] [7, 0]\n",
      "visit [13, 15, 18] [7, 0, 1]\n",
      "range [2, 1, 0]\n",
      "prev_tok 2 2\n",
      "link 2 1\n",
      "prev_tok 1 5\n",
      " -- 20 linear linear ADJ [13, 15, 18] [7, 0, 1]\n",
      "visit [13, 15, 18, 20] [7, 0, 1, 2]\n",
      "range [3, 2, 1, 0]\n",
      "prev_tok 3 1\n",
      "link 8 2\n",
      "prev_tok 2 3\n",
      "link 8 1\n",
      "prev_tok 1 6\n",
      " -- 21 Diophantine Diophantine PROPN [13, 15, 18, 20] [7, 0, 1, 2]\n",
      "visit [13, 15, 18, 20, 21] [7, 0, 1, 2, 8]\n",
      "range [4, 3, 2, 1, 0]\n",
      "prev_tok 4 1\n",
      "link 9 8\n",
      "prev_tok 3 2\n",
      "link 9 2\n",
      "prev_tok 2 4\n",
      " -- 22 equations equation NOUN [13, 15, 18, 20, 21] [7, 0, 1, 2, 8]\n",
      "visit [13, 15, 18, 20, 21, 22] [7, 0, 1, 2, 8, 9]\n",
      "range [5, 4, 3, 2, 1, 0]\n",
      "prev_tok 5 2\n",
      "link 10 9\n",
      "prev_tok 4 3\n",
      "link 10 8\n",
      "prev_tok 3 4\n",
      " -- 24 strict strict ADJ [13, 15, 18, 20, 21, 22] [7, 0, 1, 2, 8, 9]\n",
      "visit [13, 15, 18, 20, 21, 22, 24] [7, 0, 1, 2, 8, 9, 10]\n",
      "range [6, 5, 4, 3, 2, 1, 0]\n",
      "prev_tok 6 1\n",
      "link 11 10\n",
      "prev_tok 5 3\n",
      "link 11 9\n",
      "prev_tok 4 4\n",
      " -- 25 inequations inequation NOUN [13, 15, 18, 20, 21, 22, 24] [7, 0, 1, 2, 8, 9, 10]\n",
      "visit [13, 15, 18, 20, 21, 22, 24, 25] [7, 0, 1, 2, 8, 9, 10, 11]\n",
      "range [7, 6, 5, 4, 3, 2, 1, 0]\n",
      "prev_tok 7 3\n",
      "link 12 11\n",
      "prev_tok 6 4\n",
      " -- 28 nonstrict nonstrict NOUN [13, 15, 18, 20, 21, 22, 24, 25] [7, 0, 1, 2, 8, 9, 10, 11]\n",
      "visit [13, 15, 18, 20, 21, 22, 24, 25, 28] [7, 0, 1, 2, 8, 9, 10, 11, 12]\n",
      "range [8, 7, 6, 5, 4, 3, 2, 1, 0]\n",
      "prev_tok 8 1\n",
      "link 11 12\n",
      "prev_tok 7 4\n",
      " -- 29 inequations inequation NOUN [13, 15, 18, 20, 21, 22, 24, 25, 28] [7, 0, 1, 2, 8, 9, 10, 11, 12]\n",
      "visit [13, 15, 18, 20, 21, 22, 24, 25, 28, 29] [7, 0, 1, 2, 8, 9, 10, 11, 12, 11]\n",
      "range [9, 8, 7, 6, 5, 4, 3, 2, 1, 0]\n",
      "prev_tok 9 2\n",
      "link 13 11\n",
      "prev_tok 8 3\n",
      "link 13 12\n",
      "prev_tok 7 6\n",
      " -- 31 considered consider VERB [13, 15, 18, 20, 21, 22, 24, 25, 28, 29] [7, 0, 1, 2, 8, 9, 10, 11, 12, 11]\n",
      "visit [] []\n",
      "range []\n",
      " -- 33 Upper upper ADJ [] []\n",
      "visit [33] [14]\n",
      "range [0]\n",
      "prev_tok 0 1\n",
      "link 15 14\n",
      " -- 34 bounds bound NOUN [33] [14]\n",
      "visit [33, 34] [14, 15]\n",
      "range [1, 0]\n",
      "prev_tok 1 2\n",
      "link 16 15\n",
      "prev_tok 0 3\n",
      "link 16 14\n",
      " -- 36 components component NOUN [33, 34] [14, 15]\n",
      "visit [33, 34, 36] [14, 15, 16]\n",
      "range [2, 1, 0]\n",
      "prev_tok 2 3\n",
      "link 17 16\n",
      "prev_tok 1 5\n",
      " -- 39 minimal minimal ADJ [33, 34, 36] [14, 15, 16]\n",
      "visit [33, 34, 36, 39] [14, 15, 16, 17]\n",
      "range [3, 2, 1, 0]\n",
      "prev_tok 3 1\n",
      "link 4 17\n",
      "prev_tok 2 4\n",
      " -- 40 set set NOUN [33, 34, 36, 39] [14, 15, 16, 17]\n",
      "visit [33, 34, 36, 39, 40] [14, 15, 16, 17, 4]\n",
      "range [4, 3, 2, 1, 0]\n",
      "prev_tok 4 2\n",
      "link 18 4\n",
      "prev_tok 3 3\n",
      "link 18 17\n",
      "prev_tok 2 6\n",
      " -- 42 solutions solution NOUN [33, 34, 36, 39, 40] [14, 15, 16, 17, 4]\n",
      "visit [33, 34, 36, 39, 40, 42] [14, 15, 16, 17, 4, 18]\n",
      "range [5, 4, 3, 2, 1, 0]\n",
      "prev_tok 5 2\n",
      "link 19 18\n",
      "prev_tok 4 4\n",
      " -- 44 algorithms algorithm NOUN [33, 34, 36, 39, 40, 42] [14, 15, 16, 17, 4, 18]\n",
      "visit [33, 34, 36, 39, 40, 42, 44] [14, 15, 16, 17, 4, 18, 19]\n",
      "range [6, 5, 4, 3, 2, 1, 0]\n",
      "prev_tok 6 2\n",
      "link 20 19\n",
      "prev_tok 5 4\n",
      " -- 46 construction construction NOUN [33, 34, 36, 39, 40, 42, 44] [14, 15, 16, 17, 4, 18, 19]\n",
      "visit [33, 34, 36, 39, 40, 42, 44, 46] [14, 15, 16, 17, 4, 18, 19, 20]\n",
      "range [7, 6, 5, 4, 3, 2, 1, 0]\n",
      "prev_tok 7 2\n",
      "link 17 20\n",
      "prev_tok 6 4\n",
      " -- 48 minimal minimal ADJ [33, 34, 36, 39, 40, 42, 44, 46] [14, 15, 16, 17, 4, 18, 19, 20]\n",
      "visit [33, 34, 36, 39, 40, 42, 44, 46, 48] [14, 15, 16, 17, 4, 18, 19, 20, 17]\n",
      "range [8, 7, 6, 5, 4, 3, 2, 1, 0]\n",
      "prev_tok 8 1\n",
      "link 21 17\n",
      "prev_tok 7 3\n",
      "link 21 20\n",
      "prev_tok 6 5\n",
      " -- 49 generating generating NOUN [33, 34, 36, 39, 40, 42, 44, 46, 48] [14, 15, 16, 17, 4, 18, 19, 20, 17]\n",
      "visit [33, 34, 36, 39, 40, 42, 44, 46, 48, 49] [14, 15, 16, 17, 4, 18, 19, 20, 17, 21]\n",
      "range [9, 8, 7, 6, 5, 4, 3, 2, 1, 0]\n",
      "prev_tok 9 1\n",
      "link 4 21\n",
      "prev_tok 8 2\n",
      "link 4 17\n",
      "prev_tok 7 4\n",
      " -- 50 sets set NOUN [33, 34, 36, 39, 40, 42, 44, 46, 48, 49] [14, 15, 16, 17, 4, 18, 19, 20, 17, 21]\n",
      "visit [33, 34, 36, 39, 40, 42, 44, 46, 48, 49, 50] [14, 15, 16, 17, 4, 18, 19, 20, 17, 21, 4]\n",
      "range [10, 9, 8, 7, 6, 5, 4, 3, 2, 1, 0]\n",
      "prev_tok 10 2\n",
      "link 18 4\n",
      "prev_tok 9 3\n",
      "link 18 21\n",
      "prev_tok 8 4\n",
      " -- 52 solutions solution NOUN [33, 34, 36, 39, 40, 42, 44, 46, 48, 49, 50] [14, 15, 16, 17, 4, 18, 19, 20, 17, 21, 4]\n",
      "visit [33, 34, 36, 39, 40, 42, 44, 46, 48, 49, 50, 52] [14, 15, 16, 17, 4, 18, 19, 20, 17, 21, 4, 18]\n",
      "range [11, 10, 9, 8, 7, 6, 5, 4, 3, 2, 1, 0]\n",
      "prev_tok 11 3\n",
      "link 22 18\n",
      "prev_tok 10 5\n",
      " -- 55 types type NOUN [33, 34, 36, 39, 40, 42, 44, 46, 48, 49, 50, 52] [14, 15, 16, 17, 4, 18, 19, 20, 17, 21, 4, 18]\n",
      "visit [33, 34, 36, 39, 40, 42, 44, 46, 48, 49, 50, 52, 55] [14, 15, 16, 17, 4, 18, 19, 20, 17, 21, 4, 18, 22]\n",
      "range [12, 11, 10, 9, 8, 7, 6, 5, 4, 3, 2, 1, 0]\n",
      "prev_tok 12 2\n",
      "link 1 22\n",
      "prev_tok 11 5\n",
      " -- 57 systems system NOUN [33, 34, 36, 39, 40, 42, 44, 46, 48, 49, 50, 52, 55] [14, 15, 16, 17, 4, 18, 19, 20, 17, 21, 4, 18, 22]\n",
      "visit [33, 34, 36, 39, 40, 42, 44, 46, 48, 49, 50, 52, 55, 57] [14, 15, 16, 17, 4, 18, 19, 20, 17, 21, 4, 18, 22, 1]\n",
      "range [13, 12, 11, 10, 9, 8, 7, 6, 5, 4, 3, 2, 1, 0]\n",
      "prev_tok 13 2\n",
      "link 23 1\n",
      "prev_tok 12 4\n",
      " -- 59 given give VERB [33, 34, 36, 39, 40, 42, 44, 46, 48, 49, 50, 52, 55, 57] [14, 15, 16, 17, 4, 18, 19, 20, 17, 21, 4, 18, 22, 1]\n",
      "visit [] []\n",
      "range []\n",
      " -- 62 criteria criterion NOUN [] []\n",
      "visit [62] [7]\n",
      "range [0]\n",
      "prev_tok 0 3\n",
      "link 24 7\n",
      " -- 65 corresponding corresponding ADJ [62] [7]\n",
      "visit [62, 65] [7, 24]\n",
      "range [1, 0]\n",
      "prev_tok 1 1\n",
      "link 19 24\n",
      "prev_tok 0 4\n",
      " -- 66 algorithms algorithm NOUN [62, 65] [7, 24]\n",
      "visit [62, 65, 66] [7, 24, 19]\n",
      "range [2, 1, 0]\n",
      "prev_tok 2 2\n",
      "link 25 19\n",
      "prev_tok 1 3\n",
      "link 25 24\n",
      "prev_tok 0 6\n",
      " -- 68 constructing construct VERB [62, 65, 66] [7, 24, 19]\n",
      "visit [62, 65, 66, 68] [7, 24, 19, 25]\n",
      "range [3, 2, 1, 0]\n",
      "prev_tok 3 2\n",
      "link 17 25\n",
      "prev_tok 2 4\n",
      " -- 70 minimal minimal ADJ [62, 65, 66, 68] [7, 24, 19, 25]\n",
      "visit [62, 65, 66, 68, 70] [7, 24, 19, 25, 17]\n",
      "range [4, 3, 2, 1, 0]\n",
      "prev_tok 4 1\n",
      "link 26 17\n",
      "prev_tok 3 3\n",
      "link 26 25\n",
      "prev_tok 2 5\n",
      " -- 71 supporting support VERB [62, 65, 66, 68, 70] [7, 24, 19, 25, 17]\n",
      "visit [62, 65, 66, 68, 70, 71] [7, 24, 19, 25, 17, 26]\n",
      "range [5, 4, 3, 2, 1, 0]\n",
      "prev_tok 5 1\n",
      "link 4 26\n",
      "prev_tok 4 2\n",
      "link 4 17\n",
      "prev_tok 3 4\n",
      " -- 72 set set NOUN [62, 65, 66, 68, 70, 71] [7, 24, 19, 25, 17, 26]\n",
      "visit [62, 65, 66, 68, 70, 71, 72] [7, 24, 19, 25, 17, 26, 4]\n",
      "range [6, 5, 4, 3, 2, 1, 0]\n",
      "prev_tok 6 2\n",
      "link 18 4\n",
      "prev_tok 5 3\n",
      "link 18 26\n",
      "prev_tok 4 4\n",
      " -- 74 solutions solution NOUN [62, 65, 66, 68, 70, 71, 72] [7, 24, 19, 25, 17, 26, 4]\n",
      "visit [62, 65, 66, 68, 70, 71, 72, 74] [7, 24, 19, 25, 17, 26, 4, 18]\n",
      "range [7, 6, 5, 4, 3, 2, 1, 0]\n",
      "prev_tok 7 3\n",
      "link 27 18\n",
      "prev_tok 6 5\n",
      " -- 77 used use VERB [62, 65, 66, 68, 70, 71, 72, 74] [7, 24, 19, 25, 17, 26, 4, 18]\n",
      "visit [62, 65, 66, 68, 70, 71, 72, 74, 77] [7, 24, 19, 25, 17, 26, 4, 18, 27]\n",
      "range [8, 7, 6, 5, 4, 3, 2, 1, 0]\n",
      "prev_tok 8 2\n",
      "link 28 27\n",
      "prev_tok 7 5\n",
      " -- 79 solving solve VERB [62, 65, 66, 68, 70, 71, 72, 74, 77] [7, 24, 19, 25, 17, 26, 4, 18, 27]\n",
      "visit [62, 65, 66, 68, 70, 71, 72, 74, 77, 79] [7, 24, 19, 25, 17, 26, 4, 18, 27, 28]\n",
      "range [9, 8, 7, 6, 5, 4, 3, 2, 1, 0]\n",
      "prev_tok 9 3\n",
      "link 13 28\n",
      "prev_tok 8 5\n",
      " -- 82 considered consider VERB [62, 65, 66, 68, 70, 71, 72, 74, 77, 79] [7, 24, 19, 25, 17, 26, 4, 18, 27, 28]\n",
      "visit [62, 65, 66, 68, 70, 71, 72, 74, 77, 79, 82] [7, 24, 19, 25, 17, 26, 4, 18, 27, 28, 13]\n",
      "range [10, 9, 8, 7, 6, 5, 4, 3, 2, 1, 0]\n",
      "prev_tok 10 1\n",
      "link 22 13\n",
      "prev_tok 9 4\n",
      " -- 83 types type NOUN [62, 65, 66, 68, 70, 71, 72, 74, 77, 79, 82] [7, 24, 19, 25, 17, 26, 4, 18, 27, 28, 13]\n",
      "visit [62, 65, 66, 68, 70, 71, 72, 74, 77, 79, 82, 83] [7, 24, 19, 25, 17, 26, 4, 18, 27, 28, 13, 22]\n",
      "range [11, 10, 9, 8, 7, 6, 5, 4, 3, 2, 1, 0]\n",
      "prev_tok 11 1\n",
      "link 1 22\n",
      "prev_tok 10 2\n",
      "link 1 13\n",
      "prev_tok 9 5\n",
      " -- 84 systems system NOUN [62, 65, 66, 68, 70, 71, 72, 74, 77, 79, 82, 83] [7, 24, 19, 25, 17, 26, 4, 18, 27, 28, 13, 22]\n",
      "visit [62, 65, 66, 68, 70, 71, 72, 74, 77, 79, 82, 83, 84] [7, 24, 19, 25, 17, 26, 4, 18, 27, 28, 13, 22, 1]\n",
      "range [12, 11, 10, 9, 8, 7, 6, 5, 4, 3, 2, 1, 0]\n",
      "prev_tok 12 2\n",
      "link 1 1\n",
      "prev_tok 11 3\n",
      "link 1 22\n",
      "prev_tok 10 4\n",
      " -- 86 systems system NOUN [62, 65, 66, 68, 70, 71, 72, 74, 77, 79, 82, 83, 84] [7, 24, 19, 25, 17, 26, 4, 18, 27, 28, 13, 22, 1]\n",
      "visit [62, 65, 66, 68, 70, 71, 72, 74, 77, 79, 82, 83, 84, 86] [7, 24, 19, 25, 17, 26, 4, 18, 27, 28, 13, 22, 1, 1]\n",
      "range [13, 12, 11, 10, 9, 8, 7, 6, 5, 4, 3, 2, 1, 0]\n",
      "prev_tok 13 2\n",
      "link 29 1\n",
      "prev_tok 12 4\n",
      " -- 88 mixed mixed ADJ [62, 65, 66, 68, 70, 71, 72, 74, 77, 79, 82, 83, 84, 86] [7, 24, 19, 25, 17, 26, 4, 18, 27, 28, 13, 22, 1, 1]\n",
      "visit [62, 65, 66, 68, 70, 71, 72, 74, 77, 79, 82, 83, 84, 86, 88] [7, 24, 19, 25, 17, 26, 4, 18, 27, 28, 13, 22, 1, 1, 29]\n",
      "range [14, 13, 12, 11, 10, 9, 8, 7, 6, 5, 4, 3, 2, 1, 0]\n",
      "prev_tok 14 1\n",
      "link 22 29\n",
      "prev_tok 13 3\n",
      "link 22 1\n",
      "prev_tok 12 5\n",
      " -- 89 types type NOUN [62, 65, 66, 68, 70, 71, 72, 74, 77, 79, 82, 83, 84, 86, 88] [7, 24, 19, 25, 17, 26, 4, 18, 27, 28, 13, 22, 1, 1, 29]\n",
      "{('compatibility', 'NOUN'): {0, 15}, ('system', 'NOUN'): {2, 18, 84, 86, 57}, ('linear', 'ADJ'): {4, 20}, ('constraint', 'NOUN'): {5}, ('set', 'NOUN'): {8, 40, 72, 50}, ('natural', 'ADJ'): {10}, ('number', 'NOUN'): {11}, ('criterion', 'NOUN'): {13, 62}, ('Diophantine', 'PROPN'): {21}, ('equation', 'NOUN'): {22}, ('strict', 'ADJ'): {24}, ('inequation', 'NOUN'): {25, 29}, ('nonstrict', 'NOUN'): {28}, ('consider', 'VERB'): {82, 31}, ('upper', 'ADJ'): {33}, ('bound', 'NOUN'): {34}, ('component', 'NOUN'): {36}, ('minimal', 'ADJ'): {48, 70, 39}, ('solution', 'NOUN'): {42, 52, 74}, ('algorithm', 'NOUN'): {66, 44}, ('construction', 'NOUN'): {46}, ('generating', 'NOUN'): {49}, ('type', 'NOUN'): {89, 83, 55}, ('give', 'VERB'): {59}, ('corresponding', 'ADJ'): {65}, ('construct', 'VERB'): {68}, ('support', 'VERB'): {71}, ('use', 'VERB'): {77}, ('solve', 'VERB'): {79}, ('mixed', 'ADJ'): {88}}\n"
     ]
    }
   ],
   "source": [
    "lemma_graph = nx.Graph()\n",
    "seen_lemma = {}\n",
    "\n",
    "for sent in doc.sents:\n",
    "    link_sentence(doc, sent, lemma_graph, seen_lemma)\n",
    "    #break # only test one sentence\n",
    "\n",
    "print(seen_lemma)"
   ]
  },
  {
   "cell_type": "markdown",
   "metadata": {},
   "source": [
    "Let's visualize the lemma graph, and for that first we need to collect a dictionary of the labels."
   ]
  },
  {
   "cell_type": "code",
   "execution_count": 10,
   "metadata": {},
   "outputs": [
    {
     "data": {
      "text/plain": [
       "{0: 'compatibility',\n",
       " 1: 'system',\n",
       " 2: 'linear',\n",
       " 3: 'constraint',\n",
       " 4: 'set',\n",
       " 5: 'natural',\n",
       " 6: 'number',\n",
       " 7: 'criterion',\n",
       " 8: 'diophantine',\n",
       " 9: 'equation',\n",
       " 10: 'strict',\n",
       " 11: 'inequation',\n",
       " 12: 'nonstrict',\n",
       " 13: 'consider',\n",
       " 14: 'upper',\n",
       " 15: 'bound',\n",
       " 16: 'component',\n",
       " 17: 'minimal',\n",
       " 18: 'solution',\n",
       " 19: 'algorithm',\n",
       " 20: 'construction',\n",
       " 21: 'generating',\n",
       " 22: 'type',\n",
       " 23: 'give',\n",
       " 24: 'corresponding',\n",
       " 25: 'construct',\n",
       " 26: 'support',\n",
       " 27: 'use',\n",
       " 28: 'solve',\n",
       " 29: 'mixed'}"
      ]
     },
     "execution_count": 10,
     "metadata": {},
     "output_type": "execute_result"
    }
   ],
   "source": [
    "labels = {}\n",
    "keys = list(seen_lemma.keys())\n",
    "\n",
    "for i in range(len(seen_lemma)):\n",
    "    labels[i] = keys[i][0].lower()\n",
    "\n",
    "labels"
   ]
  },
  {
   "cell_type": "markdown",
   "metadata": {},
   "source": [
    "Then use `matplotlib` to visualize the lemma graph:"
   ]
  },
  {
   "cell_type": "code",
   "execution_count": 11,
   "metadata": {},
   "outputs": [
    {
     "data": {
      "text/plain": [
       "{0: Text(0.0012901698206639074, -0.24488563620557569, 'compatibility'),\n",
       " 1: Text(-0.244224072417844, -0.33005011070048307, 'system'),\n",
       " 2: Text(-0.28588876173627664, -0.4785892801098886, 'linear'),\n",
       " 3: Text(-0.004250675507954382, -0.2927056259906219, 'constraint'),\n",
       " 4: Text(0.25798107760457045, 0.08359323116936315, 'set'),\n",
       " 5: Text(0.5614341045628787, -0.03475907259237776, 'natural'),\n",
       " 6: Text(0.4956226628076055, -0.11906952225278584, 'number'),\n",
       " 7: Text(0.3055938841559193, -0.16029282486461344, 'criterion'),\n",
       " 8: Text(-0.4434103507437436, -0.5453429552416424, 'diophantine'),\n",
       " 9: Text(-0.5625046690114252, -0.5782145949183082, 'equation'),\n",
       " 10: Text(-0.6738091037489825, -0.5696139410986532, 'strict'),\n",
       " 11: Text(-0.730296572849753, -0.40427662390703495, 'inequation'),\n",
       " 12: Text(-0.8065626583538854, -0.2780670433730142, 'nonstrict'),\n",
       " 13: Text(-0.5384807160505934, -0.20176294539683995, 'consider'),\n",
       " 14: Text(0.5499271777610776, 1.0, 'upper'),\n",
       " 15: Text(0.6574525528780653, 0.9522956279393495, 'bound'),\n",
       " 16: Text(0.4944302978164222, 0.7403101781602907, 'component'),\n",
       " 17: Text(0.3094440868947073, 0.3372681910005853, 'minimal'),\n",
       " 18: Text(0.09655405473184611, 0.15363866760526132, 'solution'),\n",
       " 19: Text(0.38197157731641146, 0.2989552937926355, 'algorithm'),\n",
       " 20: Text(0.2747578313773389, 0.4918332820043162, 'construction'),\n",
       " 21: Text(0.17124168168496184, 0.3240907459361337, 'generating'),\n",
       " 22: Text(-0.23229740292004417, -0.15292900871503107, 'type'),\n",
       " 23: Text(-0.2367544003192028, -0.6487936224180363, 'give'),\n",
       " 24: Text(0.49655787516541655, 0.09609814992072034, 'corresponding'),\n",
       " 25: Text(0.5144035996619168, 0.2899793739981105, 'construct'),\n",
       " 26: Text(0.3213558333044916, 0.20819127644940214, 'support'),\n",
       " 27: Text(-0.24941949469493382, 0.20823979838909723, 'use'),\n",
       " 28: Text(-0.507446444795476, 0.08822154979653159, 'solve'),\n",
       " 29: Text(-0.3746731443941781, -0.23336255837689104, 'mixed')}"
      ]
     },
     "execution_count": 11,
     "metadata": {},
     "output_type": "execute_result"
    },
    {
     "data": {
      "image/png": "[encoded data removed]",
      "text/plain": [
       "<Figure size 648x648 with 1 Axes>"
      ]
     },
     "metadata": {},
     "output_type": "display_data"
    }
   ],
   "source": [
    "%matplotlib inline\n",
    "import matplotlib.pyplot as plt\n",
    "\n",
    "fig = plt.figure(figsize=(9, 9))\n",
    "pos = nx.spring_layout(lemma_graph)\n",
    "\n",
    "nx.draw(lemma_graph, pos=pos, with_labels=False, font_weight=\"bold\")\n",
    "nx.draw_networkx_labels(lemma_graph, pos, labels)"
   ]
  },
  {
   "cell_type": "markdown",
   "metadata": {},
   "source": [
    "Now to run the algorithm, we use `PageRank` – which is approximately _eigenvalue centrality_ – to calculate ranks for each of the nodes in the lemma graph."
   ]
  },
  {
   "cell_type": "code",
   "execution_count": 12,
   "metadata": {},
   "outputs": [
    {
     "data": {
      "text/plain": [
       "{0: 0.025190055141357165,\n",
       " 1: 0.09709174565608479,\n",
       " 2: 0.03658656272138432,\n",
       " 3: 0.022947339381092696,\n",
       " 4: 0.07548767636963792,\n",
       " 5: 0.01884004785394172,\n",
       " 6: 0.01884004785394172,\n",
       " 7: 0.019767433918161055,\n",
       " 8: 0.03093250736456608,\n",
       " 9: 0.031636552282656216,\n",
       " 10: 0.0250439175297852,\n",
       " 11: 0.03969617593153302,\n",
       " 12: 0.02513276636673567,\n",
       " 13: 0.0390375393827704,\n",
       " 14: 0.02428614673389346,\n",
       " 15: 0.02428614673389346,\n",
       " 16: 0.031629446298645975,\n",
       " 17: 0.06334806476862227,\n",
       " 18: 0.061826419749828485,\n",
       " 19: 0.03201021345587308,\n",
       " 20: 0.02404712231242087,\n",
       " 21: 0.029468555366439973,\n",
       " 22: 0.04816979699201436,\n",
       " 23: 0.010894627731045426,\n",
       " 24: 0.026930354700088012,\n",
       " 25: 0.03165915652710971,\n",
       " 26: 0.029382686223731833,\n",
       " 27: 0.019263849959229938,\n",
       " 28: 0.01982332786706688,\n",
       " 29: 0.016743716826448173}"
      ]
     },
     "execution_count": 12,
     "metadata": {},
     "output_type": "execute_result"
    }
   ],
   "source": [
    "ranks = nx.pagerank(lemma_graph)\n",
    "ranks"
   ]
  },
  {
   "cell_type": "code",
   "execution_count": 13,
   "metadata": {},
   "outputs": [
    {
     "name": "stdout",
     "output_type": "stream",
     "text": [
      "1 0.09709174565608479 system\n",
      "4 0.07548767636963792 set\n",
      "17 0.06334806476862227 minimal\n",
      "18 0.061826419749828485 solution\n",
      "22 0.04816979699201436 type\n",
      "11 0.03969617593153302 inequation\n",
      "13 0.0390375393827704 consider\n",
      "2 0.03658656272138432 linear\n",
      "19 0.03201021345587308 algorithm\n",
      "25 0.03165915652710971 construct\n",
      "9 0.031636552282656216 equation\n",
      "16 0.031629446298645975 component\n",
      "8 0.03093250736456608 diophantine\n",
      "21 0.029468555366439973 generating\n",
      "26 0.029382686223731833 support\n",
      "24 0.026930354700088012 corresponding\n",
      "0 0.025190055141357165 compatibility\n",
      "12 0.02513276636673567 nonstrict\n",
      "10 0.0250439175297852 strict\n",
      "14 0.02428614673389346 upper\n",
      "15 0.02428614673389346 bound\n",
      "20 0.02404712231242087 construction\n",
      "3 0.022947339381092696 constraint\n",
      "28 0.01982332786706688 solve\n",
      "7 0.019767433918161055 criterion\n",
      "27 0.019263849959229938 use\n",
      "5 0.01884004785394172 natural\n",
      "6 0.01884004785394172 number\n",
      "29 0.016743716826448173 mixed\n",
      "23 0.010894627731045426 give\n"
     ]
    }
   ],
   "source": [
    "for node_id, rank in sorted(ranks.items(), key=lambda x: x[1], reverse=True):\n",
    "    print(node_id, rank, labels[node_id])"
   ]
  },
  {
   "cell_type": "markdown",
   "metadata": {},
   "source": [
    "Define a function to collect the top-ranked phrases from the lemma graph."
   ]
  },
  {
   "cell_type": "code",
   "execution_count": 14,
   "metadata": {},
   "outputs": [],
   "source": [
    "import math\n",
    "\n",
    "def collect_phrases (chunk, phrases, counts):\n",
    "    chunk_len = chunk.end - chunk.start + 1\n",
    "    sq_sum_rank = 0.0\n",
    "    non_lemma = 0\n",
    "    compound_key = set([])\n",
    "\n",
    "    for i in range(chunk.start, chunk.end):\n",
    "        token = doc[i]\n",
    "        key = (token.lemma_, token.pos_)\n",
    "        \n",
    "        if key in seen_lemma:\n",
    "            node_id = list(seen_lemma.keys()).index(key)\n",
    "            rank = ranks[node_id]\n",
    "            sq_sum_rank += rank\n",
    "            compound_key.add(key)\n",
    "        \n",
    "            print(\" {} {} {} {}\".format(token.lemma_, token.pos_, node_id, rank))\n",
    "        else:\n",
    "            non_lemma += 1\n",
    "    \n",
    "    # although the noun chunking is greedy, we discount the ranks using a\n",
    "    # point estimate based on the number of non-lemma tokens within a phrase\n",
    "    non_lemma_discount = chunk_len / (chunk_len + (2.0 * non_lemma) + 1.0)\n",
    "\n",
    "    # use root mean square (RMS) to normalize the contributions of all the tokens\n",
    "    phrase_rank = math.sqrt(sq_sum_rank / (chunk_len + non_lemma))\n",
    "    phrase_rank *= non_lemma_discount\n",
    "\n",
    "    # remove spurious punctuation\n",
    "    phrase = chunk.text.lower().replace(\"'\", \"\")\n",
    "\n",
    "    # create a unique key for the the phrase based on its lemma components\n",
    "    compound_key = tuple(sorted(list(compound_key)))\n",
    "    \n",
    "    if not compound_key in phrases:\n",
    "        phrases[compound_key] = set([ (phrase, phrase_rank) ])\n",
    "        counts[compound_key] = 1\n",
    "    else:\n",
    "        phrases[compound_key].add( (phrase, phrase_rank) )\n",
    "        counts[compound_key] += 1\n",
    "\n",
    "    print(\"{} {} {} {} {} {}\".format(phrase_rank, chunk.text, chunk.start, chunk.end, chunk_len, counts[compound_key]))"
   ]
  },
  {
   "cell_type": "markdown",
   "metadata": {},
   "source": [
    "Collect the top-ranked phrases based on both the noun chunks and the named entities..."
   ]
  },
  {
   "cell_type": "code",
   "execution_count": 15,
   "metadata": {},
   "outputs": [
    {
     "name": "stdout",
     "output_type": "stream",
     "text": [
      " compatibility NOUN 0 0.025190055141357165\n",
      "0.07481838030465979 Compatibility 0 1 2 1\n",
      " system NOUN 1 0.09709174565608479\n",
      "0.14688751982088183 systems 2 3 2 1\n",
      " linear ADJ 2 0.03658656272138432\n",
      " constraint NOUN 3 0.022947339381092696\n",
      "0.10565323773654285 linear constraints 4 6 3 1\n",
      " set NOUN 4 0.07548767636963792\n",
      "0.06868755180600318 the set 7 9 3 1\n",
      " natural ADJ 5 0.01884004785394172\n",
      " number NOUN 6 0.01884004785394172\n",
      "0.08405366110543994 natural numbers 10 12 3 1\n",
      " criterion NOUN 7 0.019767433918161055\n",
      "0.06627792311867262 Criteria 13 14 2 1\n",
      " compatibility NOUN 0 0.025190055141357165\n",
      "0.07481838030465979 compatibility 15 16 2 2\n",
      " system NOUN 1 0.09709174565608479\n",
      "0.07789887100276421 a system 17 19 3 2\n",
      " linear ADJ 2 0.03658656272138432\n",
      " Diophantine PROPN 8 0.03093250736456608\n",
      " equation NOUN 9 0.031636552282656216\n",
      "0.1259559430077718 linear Diophantine equations 20 23 4 1\n",
      " strict ADJ 10 0.0250439175297852\n",
      " inequation NOUN 11 0.03969617593153302\n",
      "0.11017607509798653 strict inequations 24 26 3 1\n",
      " nonstrict NOUN 12 0.02513276636673567\n",
      " inequation NOUN 11 0.03969617593153302\n",
      "0.11025165160180313 nonstrict inequations 28 30 3 1\n",
      " upper ADJ 14 0.02428614673389346\n",
      " bound NOUN 15 0.02428614673389346\n",
      "0.09543220119650414 Upper bounds 33 35 3 1\n",
      " component NOUN 16 0.031629446298645975\n",
      "0.08383773520404489 components 36 37 2 1\n",
      " minimal ADJ 17 0.06334806476862227\n",
      " set NOUN 4 0.07548767636963792\n",
      "0.0952198714085986 a minimal set 38 41 4 1\n",
      " solution NOUN 18 0.061826419749828485\n",
      "0.1172143523159633 solutions 42 43 2 1\n",
      " algorithm NOUN 19 0.03201021345587308\n",
      "0.0843408606072513 algorithms 44 45 2 1\n",
      " construction NOUN 20 0.02404712231242087\n",
      "0.07310133349204889 construction 46 47 2 1\n",
      " minimal ADJ 17 0.06334806476862227\n",
      " generating NOUN 21 0.029468555366439973\n",
      " set NOUN 4 0.07548767636963792\n",
      "0.1640996265710316 minimal generating sets 48 51 4 1\n",
      " solution NOUN 18 0.061826419749828485\n",
      "0.1172143523159633 solutions 52 53 2 2\n",
      " type NOUN 22 0.04816979699201436\n",
      "0.05486904693906117 all types 54 56 3 1\n",
      " system NOUN 1 0.09709174565608479\n",
      "0.14688751982088183 systems 57 58 2 3\n",
      " criterion NOUN 7 0.019767433918161055\n",
      "0.035149176660130545 These criteria 61 63 3 2\n",
      " corresponding ADJ 24 0.026930354700088012\n",
      " algorithm NOUN 19 0.03201021345587308\n",
      "0.06204175981712335 the corresponding algorithms 64 67 4 1\n",
      " minimal ADJ 17 0.06334806476862227\n",
      " support VERB 26 0.029382686223731833\n",
      " set NOUN 4 0.07548767636963792\n",
      "0.10465046837630346 a minimal supporting set 69 73 5 1\n",
      " solution NOUN 18 0.061826419749828485\n",
      "0.1172143523159633 solutions 74 75 2 3\n",
      " consider VERB 13 0.0390375393827704\n",
      " type NOUN 22 0.04816979699201436\n",
      " system NOUN 1 0.09709174565608479\n",
      "0.08278948056400119 all the considered types systems 80 85 6 1\n",
      " system NOUN 1 0.09709174565608479\n",
      "0.14688751982088183 systems 86 87 2 4\n",
      " mixed ADJ 29 0.016743716826448173\n",
      " type NOUN 22 0.04816979699201436\n",
      "0.1103235416443912 mixed types 88 90 3 1\n",
      " Diophantine PROPN 8 0.03093250736456608\n",
      "0.082908929105731 Diophantine 21 22 2 1\n"
     ]
    }
   ],
   "source": [
    "phrases = {}\n",
    "counts = {}\n",
    "\n",
    "for chunk in doc.noun_chunks:\n",
    "    collect_phrases(chunk, phrases, counts)\n",
    "\n",
    "for ent in doc.ents:\n",
    "    collect_phrases(ent, phrases, counts)"
   ]
  },
  {
   "cell_type": "markdown",
   "metadata": {},
   "source": [
    "Since noun chunks can be expressed in different ways (e.g., they may have articles or prepositions), we need to find a minimum span for each phrase based on combinations of lemmas..."
   ]
  },
  {
   "cell_type": "code",
   "execution_count": 16,
   "metadata": {},
   "outputs": [],
   "source": [
    "import operator\n",
    "\n",
    "min_phrases = {}\n",
    "\n",
    "for compound_key, rank_tuples in phrases.items():\n",
    "    l = list(rank_tuples)\n",
    "    l.sort(key=operator.itemgetter(1), reverse=True)\n",
    "    \n",
    "    phrase, rank = l[0]\n",
    "    count = counts[compound_key]\n",
    "    \n",
    "    min_phrases[phrase] = (rank, count)"
   ]
  },
  {
   "cell_type": "markdown",
   "metadata": {},
   "source": [
    "Yield the results of TextRank..."
   ]
  },
  {
   "cell_type": "code",
   "execution_count": 17,
   "metadata": {},
   "outputs": [
    {
     "name": "stdout",
     "output_type": "stream",
     "text": [
      "minimal generating sets 1 0.1640996265710316\n",
      "systems 4 0.14688751982088183\n",
      "linear diophantine equations 1 0.1259559430077718\n",
      "solutions 3 0.1172143523159633\n",
      "mixed types 1 0.1103235416443912\n",
      "nonstrict inequations 1 0.11025165160180313\n",
      "strict inequations 1 0.11017607509798653\n",
      "linear constraints 1 0.10565323773654285\n",
      "a minimal supporting set 1 0.10465046837630346\n",
      "upper bounds 1 0.09543220119650414\n",
      "a minimal set 1 0.0952198714085986\n",
      "algorithms 1 0.0843408606072513\n",
      "natural numbers 1 0.08405366110543994\n",
      "components 1 0.08383773520404489\n",
      "diophantine 1 0.082908929105731\n",
      "all the considered types systems 1 0.08278948056400119\n",
      "compatibility 2 0.07481838030465979\n",
      "construction 1 0.07310133349204889\n",
      "the set 1 0.06868755180600318\n",
      "criteria 2 0.06627792311867262\n",
      "the corresponding algorithms 1 0.06204175981712335\n",
      "all types 1 0.05486904693906117\n"
     ]
    }
   ],
   "source": [
    "for phrase, (rank, count) in sorted(min_phrases.items(), key=lambda x: x[1][0], reverse=True):\n",
    "    print(phrase, count, rank)"
   ]
  },
  {
   "cell_type": "markdown",
   "metadata": {},
   "source": [
    "Just for kicks, compare with raw results of the non-chunked lemma nodes..."
   ]
  },
  {
   "cell_type": "code",
   "execution_count": 18,
   "metadata": {},
   "outputs": [
    {
     "name": "stdout",
     "output_type": "stream",
     "text": [
      "system 0.09709174565608479\n",
      "set 0.07548767636963792\n",
      "minimal 0.06334806476862227\n",
      "solution 0.061826419749828485\n",
      "type 0.04816979699201436\n",
      "inequation 0.03969617593153302\n",
      "consider 0.0390375393827704\n",
      "linear 0.03658656272138432\n",
      "algorithm 0.03201021345587308\n",
      "construct 0.03165915652710971\n",
      "equation 0.031636552282656216\n",
      "component 0.031629446298645975\n",
      "diophantine 0.03093250736456608\n",
      "generating 0.029468555366439973\n",
      "support 0.029382686223731833\n",
      "corresponding 0.026930354700088012\n",
      "compatibility 0.025190055141357165\n",
      "nonstrict 0.02513276636673567\n",
      "strict 0.0250439175297852\n",
      "upper 0.02428614673389346\n",
      "bound 0.02428614673389346\n",
      "construction 0.02404712231242087\n",
      "constraint 0.022947339381092696\n",
      "solve 0.01982332786706688\n",
      "criterion 0.019767433918161055\n",
      "use 0.019263849959229938\n",
      "natural 0.01884004785394172\n",
      "number 0.01884004785394172\n",
      "mixed 0.016743716826448173\n",
      "give 0.010894627731045426\n"
     ]
    }
   ],
   "source": [
    "for node_id, rank in sorted(ranks.items(), key=lambda x: x[1], reverse=True):\n",
    "    print(labels[node_id], rank)"
   ]
  }
 ],
 "metadata": {
  "kernelspec": {
   "display_name": "Python 3",
   "language": "python",
   "name": "python3"
  },
  "language_info": {
   "codemirror_mode": {
    "name": "ipython",
    "version": 3
   },
   "file_extension": ".py",
   "mimetype": "text/x-python",
   "name": "python",
   "nbconvert_exporter": "python",
   "pygments_lexer": "ipython3",
   "version": "3.7.3"
  }
 },
 "nbformat": 4,
 "nbformat_minor": 2
}
